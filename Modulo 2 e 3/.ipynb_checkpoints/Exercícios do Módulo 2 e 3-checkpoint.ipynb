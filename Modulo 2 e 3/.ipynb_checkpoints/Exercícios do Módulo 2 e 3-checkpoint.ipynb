{
 "cells": [
  {
   "cell_type": "markdown",
   "id": "8a9a160a",
   "metadata": {},
   "source": [
    "Exercício 1\n",
    "\n",
    "Faça um programa que olhe todos os itens de uma lista e diga quantos deles\n",
    "são pares."
   ]
  },
  {
   "cell_type": "code",
   "execution_count": null,
   "id": "2caad60e",
   "metadata": {},
   "outputs": [],
   "source": [
    "lista = list(range(0, 10))\n",
    "lista_pares = []\n",
    "contador = 0"
   ]
  },
  {
   "cell_type": "code",
   "execution_count": null,
   "id": "3bc1bfef",
   "metadata": {},
   "outputs": [],
   "source": [
    "for itens in lista:\n",
    "    if (lista[itens] % 2 == 0):\n",
    "        lista_pares.append(lista[itens])\n",
    "        contador = contador + 1\n",
    "print(\"O número de números pares na lista informada é de \" + str(contador))"
   ]
  },
  {
   "cell_type": "code",
   "execution_count": null,
   "id": "d97d17e0",
   "metadata": {},
   "outputs": [],
   "source": []
  },
  {
   "cell_type": "markdown",
   "id": "907fb6c2",
   "metadata": {},
   "source": [
    "Exercício 2\n",
    "\n",
    "Faça um programa que peça para o usuário digitar uma palavra e imprima\n",
    "cada letra em uma linha."
   ]
  },
  {
   "cell_type": "code",
   "execution_count": null,
   "id": "43156cdf",
   "metadata": {
    "scrolled": true
   },
   "outputs": [],
   "source": [
    "print(\"Digite uma palavra e verá cada letra impressa em cada linha\\n\")\n",
    "palavra = input()"
   ]
  },
  {
   "cell_type": "code",
   "execution_count": null,
   "id": "d0d74196",
   "metadata": {},
   "outputs": [],
   "source": [
    "for letra in palavra:\n",
    "    print(letra)"
   ]
  },
  {
   "cell_type": "code",
   "execution_count": null,
   "id": "2ffbcbc3",
   "metadata": {},
   "outputs": [],
   "source": []
  },
  {
   "cell_type": "markdown",
   "id": "120c0d08",
   "metadata": {},
   "source": [
    "Exercício 3\n",
    "\n",
    "Faça uma função que recebe duas listas e retorna a soma item a item dessas\n",
    "listas.\n",
    "Exemplo: Se a função receber as listas [1,4,3] e [3,5,1], então a função deve\n",
    "retornar [1+3, 4+5, 3+1] = [4, 9, 4]."
   ]
  },
  {
   "cell_type": "code",
   "execution_count": 1,
   "id": "b688084a",
   "metadata": {},
   "outputs": [],
   "source": [
    "def criarLista(inicio, fim):\n",
    "    return list(range(inicio, fim+1))"
   ]
  },
  {
   "cell_type": "code",
   "execution_count": 2,
   "id": "78a0b201",
   "metadata": {},
   "outputs": [
    {
     "name": "stdout",
     "output_type": "stream",
     "text": [
      "Defina o início e o fim da primeira lista, respectivamente\n",
      "1\n",
      "10\n",
      "Defina o início e o fim da segunda lista, respectivamente\n",
      "2\n",
      "11\n"
     ]
    }
   ],
   "source": [
    "print(\"Defina o início e o fim da primeira lista, respectivamente\")\n",
    "inicio = int(input())\n",
    "fim = int(input())\n",
    "lista_1 = criarLista(inicio, fim)\n",
    "\n",
    "print(\"Defina o início e o fim da segunda lista, respectivamente\")\n",
    "inicio = int(input())\n",
    "fim = int(input())\n",
    "lista_2 = criarLista(inicio, fim)"
   ]
  },
  {
   "cell_type": "code",
   "execution_count": 10,
   "id": "385af90e",
   "metadata": {},
   "outputs": [
    {
     "name": "stdout",
     "output_type": "stream",
     "text": [
      "[3, 5, 7, 9, 11, 13, 15, 17, 19, 21]\n"
     ]
    }
   ],
   "source": [
    "soma_listas = list(map(lambda v1, v2: v1 + v2, lista_1, lista_2))\n",
    "\n",
    "print(soma_listas)"
   ]
  },
  {
   "cell_type": "code",
   "execution_count": null,
   "id": "2fd20bd3",
   "metadata": {},
   "outputs": [],
   "source": []
  },
  {
   "cell_type": "markdown",
   "id": "a6520de4",
   "metadata": {},
   "source": [
    "4. Crie um dicionário cujas chaves são os meses do ano e os valores são a\n",
    "duração (em dias) de cada mês.\n",
    "\n",
    "5. Imprima as chaves seguidas dos seus valores para dicionário criado no\n",
    "exercício anterior.\n",
    "Exemplo:\n",
    "Janeiro - 31\n",
    "Fevereiro - 28\n",
    "Março - 31\n",
    "Etc..."
   ]
  },
  {
   "cell_type": "code",
   "execution_count": 12,
   "id": "ed5b8ea0",
   "metadata": {},
   "outputs": [],
   "source": [
    "ano = {\n",
    "    'janeiro': 31,\n",
    "    'fevereiro': 28,\n",
    "    'março': 31,\n",
    "    'abril': 30,\n",
    "    'maio': 31,\n",
    "}"
   ]
  },
  {
   "cell_type": "code",
   "execution_count": 14,
   "id": "f8c11ad8",
   "metadata": {},
   "outputs": [
    {
     "name": "stdout",
     "output_type": "stream",
     "text": [
      "O mês de janeiro tem 31 dias.\n",
      "O mês de fevereiro tem 28 dias.\n",
      "O mês de março tem 31 dias.\n",
      "O mês de abril tem 30 dias.\n",
      "O mês de maio tem 31 dias.\n"
     ]
    }
   ],
   "source": [
    "for chave in ano:\n",
    "    print(f\"O mês de {chave} tem {ano[chave]} dias.\")"
   ]
  },
  {
   "cell_type": "markdown",
   "id": "e4cd019c",
   "metadata": {},
   "source": [
    "# Módulo 3"
   ]
  },
  {
   "cell_type": "markdown",
   "id": "f4655d5a",
   "metadata": {},
   "source": [
    "1 - Neste exercício você deve criar um programa que abra o arquivo\n",
    "\"alunos.csv\" e imprima o conteúdo do arquivo linha a linha."
   ]
  },
  {
   "cell_type": "code",
   "execution_count": 21,
   "id": "8f623524",
   "metadata": {},
   "outputs": [],
   "source": [
    "import csv"
   ]
  },
  {
   "cell_type": "code",
   "execution_count": 22,
   "id": "f4cd510d",
   "metadata": {},
   "outputs": [
    {
     "name": "stdout",
     "output_type": "stream",
     "text": [
      "['RA', 'Nome', 'Frequencia', 'Prova_1', 'Prova_2', 'Prova_3', 'Prova_4']\n",
      "['110201', 'Antonio Carlos', '20', '6.5', '8.5', '7', '6']\n",
      "['110212', 'Ana Beatriz', '20', '7', '7', '7', '8']\n",
      "['110218', 'Carlos Vernes', '17', '7', '7', '7', '7']\n",
      "['110307', 'Francisco Cunha', '20', '9', '8.5', '8.5', '10']\n",
      "['110275', 'Sandra Rosa', '15', '6.5', '7.5', '7', '7']\n",
      "['110281', 'Juliana Arruda', '18', '7.5', '7', '7.5', '8']\n",
      "['110301', 'Joao Galo', '20', '5', '6.5', '7', '5']\n",
      "['110263', 'José Valente', '20', '10', '10', '10', '10']\n",
      "['110271', 'Maria Ferreira', '19', '9.5', '8', '7', '10']\n",
      "['110236', 'Adriana Tavares', '20', '8', '8', '8', '8']\n"
     ]
    }
   ],
   "source": [
    "with open(\"dados.csv\", 'r') as arquivo:\n",
    "    leitor = csv.reader(arquivo)\n",
    "    for item in leitor:\n",
    "        print(item)"
   ]
  },
  {
   "cell_type": "markdown",
   "id": "9ca8cf5b",
   "metadata": {},
   "source": [
    "2 - Para o segundo exercício, você deve criar um programa que realize uma\n",
    "cópia do arquivo \"alunos.csv\". Essa cópia deve ser um arquivo chamado\n",
    "\"alunos_copia.csv\".\n",
    "\n",
    "Novamente, aqui você também não precisa utilizar a biblioteca CSV mas se\n",
    "usar, seu código pode ser reutilizado na próxima questão sem muitas\n",
    "modificações."
   ]
  },
  {
   "cell_type": "code",
   "execution_count": 43,
   "id": "346bddd0",
   "metadata": {},
   "outputs": [],
   "source": [
    "with open(\"dados.csv\", 'r') as arquivo:\n",
    "    \n",
    "    with open('alunos_copia.csv', 'w', newline= '') as arquivo_copia:\n",
    "        leitor = csv.reader(arquivo)\n",
    "        escritor = csv.writer(arquivo_copia)\n",
    "        escritor.writerows(leitor)\n",
    "        "
   ]
  },
  {
   "cell_type": "code",
   "execution_count": 44,
   "id": "1a3d0682",
   "metadata": {},
   "outputs": [
    {
     "name": "stdout",
     "output_type": "stream",
     "text": [
      "['RA', 'Nome', 'Frequencia', 'Prova_1', 'Prova_2', 'Prova_3', 'Prova_4']\n",
      "['110201', 'Antonio Carlos', '20', '6.5', '8.5', '7', '6']\n",
      "['110212', 'Ana Beatriz', '20', '7', '7', '7', '8']\n",
      "['110218', 'Carlos Vernes', '17', '7', '7', '7', '7']\n",
      "['110307', 'Francisco Cunha', '20', '9', '8.5', '8.5', '10']\n",
      "['110275', 'Sandra Rosa', '15', '6.5', '7.5', '7', '7']\n",
      "['110281', 'Juliana Arruda', '18', '7.5', '7', '7.5', '8']\n",
      "['110301', 'Joao Galo', '20', '5', '6.5', '7', '5']\n",
      "['110263', 'José Valente', '20', '10', '10', '10', '10']\n",
      "['110271', 'Maria Ferreira', '19', '9.5', '8', '7', '10']\n",
      "['110236', 'Adriana Tavares', '20', '8', '8', '8', '8']\n"
     ]
    }
   ],
   "source": [
    "with open(\"alunos_copia.csv\", 'r') as arquivo:\n",
    "    leitor = csv.reader(arquivo)\n",
    "    for item in leitor:\n",
    "        print(item)"
   ]
  },
  {
   "cell_type": "code",
   "execution_count": null,
   "id": "073c2098",
   "metadata": {},
   "outputs": [],
   "source": [
    "with open(\"dados.csv\", 'r') as arquivo:\n",
    "    with open('media.csv', 'r+', newline= '') as arquivo_copia:\n",
    "        leitor = csv.reader(arquivo)\n",
    "        escritor = csv.writer(arquivo_copia)\n",
    "        escritor.writerows(leitor)\n",
    "        for linha in arquivo_copia:\n",
    "            col_media = (linha[Prova_1] + linha[Prova_2] + linha[Prova_3] + linha[Prova_4]) / 4\n",
    "            escritor.writerow(media: col_media)\n",
    "        \n",
    "        "
   ]
  }
 ],
 "metadata": {
  "kernelspec": {
   "display_name": "proj_120",
   "language": "python",
   "name": "proj_120"
  },
  "language_info": {
   "codemirror_mode": {
    "name": "ipython",
    "version": 3
   },
   "file_extension": ".py",
   "mimetype": "text/x-python",
   "name": "python",
   "nbconvert_exporter": "python",
   "pygments_lexer": "ipython3",
   "version": "3.10.4"
  }
 },
 "nbformat": 4,
 "nbformat_minor": 5
}
